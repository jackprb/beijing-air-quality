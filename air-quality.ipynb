{
 "cells": [
  {
   "cell_type": "markdown",
   "id": "6d6a7bf7",
   "metadata": {},
   "source": [
    "# Beijing Air Quality\n",
    "\n",
    "**Programmazione di Applicazioni Data Intensive**  \n",
    "Laurea in Ingegneria e Scienze Informatiche  \n",
    "DISI - Università di Bologna, Cesena\n",
    "\n",
    "Andrea Dotti `andrea.dotti4@studio.unibo.it`\n",
    "\n",
    "Giacomo Pierbattista `giacomo.pierbattista@studio.unibo.it`"
   ]
  },
  {
   "cell_type": "markdown",
   "id": "3d78a6f0",
   "metadata": {},
   "source": [
    "Citazioni\n",
    " - Beijing Multi-Site Air-Quality Data\n",
    " (https://archive.ics.uci.edu/dataset/501/beijing+multi+site+air+quality+data)"
   ]
  },
  {
   "cell_type": "markdown",
   "id": "1d4ed739",
   "metadata": {},
   "source": [
    "## Parte 1 - Descrizione del problema e analisi esplorativa\n",
    "\n",
    "Si deve realizzare un modello che, utilizzando i dati registrati da alcuni sensori posti in alcuni distretti di Pechino/Beijing, sia in grado di fare qualcosa di utile.\n",
    "\n",
    "Vengono importate le librerie necessarie per scaricare i file, organizzare le strutture dati e disegnare i grafici."
   ]
  },
  {
   "cell_type": "code",
   "execution_count": 1,
   "id": "d44e7993",
   "metadata": {},
   "outputs": [],
   "source": [
    "%matplotlib inline\n",
    "import os.path\n",
    "import numpy as np\n",
    "import pandas as pd\n",
    "import matplotlib.pyplot as plt"
   ]
  },
  {
   "cell_type": "markdown",
   "id": "0775e537",
   "metadata": {},
   "source": [
    "### Caricamento dei dati e preprocessing"
   ]
  },
  {
   "cell_type": "code",
   "execution_count": 2,
   "id": "a6499d90",
   "metadata": {},
   "outputs": [],
   "source": [
    "file_zip_url = \"https://raw.githubusercontent.com/jackprb/beijing-air-quality/master/datasets.zip\"\n",
    "file_zip_name = \"datasets.zip\"\n",
    "\n",
    "if not os.path.exists(file_zip_name):\n",
    "    from urllib.request import urlretrieve\n",
    "    urlretrieve(file_zip_url, file_zip_name)\n",
    "    from zipfile import ZipFile\n",
    "    with ZipFile(file_zip_name) as f:\n",
    "        f.extractall()"
   ]
  },
  {
   "cell_type": "code",
   "execution_count": 3,
   "id": "625738a5",
   "metadata": {},
   "outputs": [],
   "source": [
    "# short names for Beijing districts\n",
    "dict_names = {\"Ao\" : \"Aotizhongxin\", \n",
    "      \"Chang\" : \"Changping\",\n",
    "      \"Ding\" : \"Dingling\",\n",
    "      \"Dong\" : \"Dongsi\",\n",
    "      \"Guan\" : \"Guanyuan\",\n",
    "      \"Guc\" : \"Gucheng\",\n",
    "      \"Hua\" : \"Huairou\",\n",
    "      \"Nong\" : \"Nongzhanguan\",\n",
    "      \"Shu\" : \"Shunyi\",\n",
    "      \"Tia\" : \"Tiantan\",\n",
    "      \"Wanl\" : \"Wanliu\",\n",
    "      \"Wans\" : \"Wanshouxigong\"\n",
    "     }\n",
    "\n",
    "frames = []\n",
    "for name in dict_names.values():\n",
    "    with open(\"PRSA_Data_\" + name + \"_20130301-20170228.csv\") as dataFile:\n",
    "        data_raw = pd.read_csv(dataFile, sep=\",\")\n",
    "        frames.append(data_raw)\n",
    "\n",
    "data_all = pd.concat(frames)\n",
    "data_all = data_all.drop('No', axis=1)"
   ]
  },
  {
   "cell_type": "markdown",
   "id": "d987413c",
   "metadata": {},
   "source": [
    "Di seguito sono riportate le dimensioni in memoria, il numero di istanze non nulle e il tipo delle feature che compongono i dati raccolti nel dataset, comprensivo di tutti i 12 file "
   ]
  },
  {
   "cell_type": "code",
   "execution_count": 4,
   "id": "225eb286",
   "metadata": {},
   "outputs": [
    {
     "name": "stdout",
     "output_type": "stream",
     "text": [
      "<class 'pandas.core.frame.DataFrame'>\n",
      "Int64Index: 420768 entries, 0 to 35063\n",
      "Data columns (total 17 columns):\n",
      " #   Column   Non-Null Count   Dtype  \n",
      "---  ------   --------------   -----  \n",
      " 0   year     420768 non-null  int64  \n",
      " 1   month    420768 non-null  int64  \n",
      " 2   day      420768 non-null  int64  \n",
      " 3   hour     420768 non-null  int64  \n",
      " 4   PM2.5    412029 non-null  float64\n",
      " 5   PM10     414319 non-null  float64\n",
      " 6   SO2      411747 non-null  float64\n",
      " 7   NO2      408652 non-null  float64\n",
      " 8   CO       400067 non-null  float64\n",
      " 9   O3       407491 non-null  float64\n",
      " 10  TEMP     420370 non-null  float64\n",
      " 11  PRES     420375 non-null  float64\n",
      " 12  DEWP     420365 non-null  float64\n",
      " 13  RAIN     420378 non-null  float64\n",
      " 14  wd       418946 non-null  object \n",
      " 15  WSPM     420450 non-null  float64\n",
      " 16  station  420768 non-null  object \n",
      "dtypes: float64(11), int64(4), object(2)\n",
      "memory usage: 101.3 MB\n"
     ]
    }
   ],
   "source": [
    "data_all.info(memory_usage=\"deep\")"
   ]
  },
  {
   "cell_type": "markdown",
   "id": "9945cf41",
   "metadata": {},
   "source": [
    "Si nota che nel dataset originario, data e ora del rilevamento vengono memorizzate in 4 colonne distinte (year, month, day hour).\n",
    "Ciò porta ad avere un'occupazione superflua di memoria: di conseguenza, abbiamo deciso di sostituire tali colonne con un'unica nuova feature chiamata `date`, che consente di ridurre l'occupazione di memoria da 101 MB a 91 MB."
   ]
  },
  {
   "cell_type": "code",
   "execution_count": 6,
   "id": "eb338c94",
   "metadata": {
    "collapsed": true
   },
   "outputs": [
    {
     "ename": "ValueError",
     "evalue": "cannot insert date, already exists",
     "output_type": "error",
     "traceback": [
      "\u001b[1;31m---------------------------------------------------------------------------\u001b[0m",
      "\u001b[1;31mValueError\u001b[0m                                Traceback (most recent call last)",
      "Input \u001b[1;32mIn [6]\u001b[0m, in \u001b[0;36m<cell line: 2>\u001b[1;34m()\u001b[0m\n\u001b[0;32m      1\u001b[0m \u001b[38;5;66;03m#\u001b[39;00m\n\u001b[1;32m----> 2\u001b[0m \u001b[43mdata_all\u001b[49m\u001b[38;5;241;43m.\u001b[39;49m\u001b[43minsert\u001b[49m\u001b[43m(\u001b[49m\u001b[38;5;241;43m0\u001b[39;49m\u001b[43m,\u001b[49m\u001b[43m \u001b[49m\u001b[38;5;124;43m'\u001b[39;49m\u001b[38;5;124;43mdate\u001b[39;49m\u001b[38;5;124;43m'\u001b[39;49m\u001b[43m,\u001b[49m\u001b[38;5;124;43m'\u001b[39;49m\u001b[38;5;124;43m'\u001b[39;49m\u001b[43m)\u001b[49m\n\u001b[0;32m      3\u001b[0m data_all[\u001b[38;5;124m'\u001b[39m\u001b[38;5;124mdate\u001b[39m\u001b[38;5;124m'\u001b[39m] \u001b[38;5;241m=\u001b[39m pd\u001b[38;5;241m.\u001b[39mto_datetime(data_all[[\u001b[38;5;124m'\u001b[39m\u001b[38;5;124myear\u001b[39m\u001b[38;5;124m'\u001b[39m, \u001b[38;5;124m'\u001b[39m\u001b[38;5;124mmonth\u001b[39m\u001b[38;5;124m'\u001b[39m, \u001b[38;5;124m'\u001b[39m\u001b[38;5;124mday\u001b[39m\u001b[38;5;124m'\u001b[39m, \u001b[38;5;124m'\u001b[39m\u001b[38;5;124mhour\u001b[39m\u001b[38;5;124m'\u001b[39m]])\n\u001b[0;32m      4\u001b[0m data_all \u001b[38;5;241m=\u001b[39m data_all\u001b[38;5;241m.\u001b[39mdrop([\u001b[38;5;124m'\u001b[39m\u001b[38;5;124myear\u001b[39m\u001b[38;5;124m'\u001b[39m, \u001b[38;5;124m'\u001b[39m\u001b[38;5;124mmonth\u001b[39m\u001b[38;5;124m'\u001b[39m, \u001b[38;5;124m'\u001b[39m\u001b[38;5;124mday\u001b[39m\u001b[38;5;124m'\u001b[39m, \u001b[38;5;124m'\u001b[39m\u001b[38;5;124mhour\u001b[39m\u001b[38;5;124m'\u001b[39m], axis\u001b[38;5;241m=\u001b[39m\u001b[38;5;241m1\u001b[39m)\n",
      "File \u001b[1;32m~\\anaconda3\\lib\\site-packages\\pandas\\core\\frame.py:4440\u001b[0m, in \u001b[0;36mDataFrame.insert\u001b[1;34m(self, loc, column, value, allow_duplicates)\u001b[0m\n\u001b[0;32m   4434\u001b[0m     \u001b[38;5;28;01mraise\u001b[39;00m \u001b[38;5;167;01mValueError\u001b[39;00m(\n\u001b[0;32m   4435\u001b[0m         \u001b[38;5;124m\"\u001b[39m\u001b[38;5;124mCannot specify \u001b[39m\u001b[38;5;124m'\u001b[39m\u001b[38;5;124mallow_duplicates=True\u001b[39m\u001b[38;5;124m'\u001b[39m\u001b[38;5;124m when \u001b[39m\u001b[38;5;124m\"\u001b[39m\n\u001b[0;32m   4436\u001b[0m         \u001b[38;5;124m\"\u001b[39m\u001b[38;5;124m'\u001b[39m\u001b[38;5;124mself.flags.allows_duplicate_labels\u001b[39m\u001b[38;5;124m'\u001b[39m\u001b[38;5;124m is False.\u001b[39m\u001b[38;5;124m\"\u001b[39m\n\u001b[0;32m   4437\u001b[0m     )\n\u001b[0;32m   4438\u001b[0m \u001b[38;5;28;01mif\u001b[39;00m \u001b[38;5;129;01mnot\u001b[39;00m allow_duplicates \u001b[38;5;129;01mand\u001b[39;00m column \u001b[38;5;129;01min\u001b[39;00m \u001b[38;5;28mself\u001b[39m\u001b[38;5;241m.\u001b[39mcolumns:\n\u001b[0;32m   4439\u001b[0m     \u001b[38;5;66;03m# Should this be a different kind of error??\u001b[39;00m\n\u001b[1;32m-> 4440\u001b[0m     \u001b[38;5;28;01mraise\u001b[39;00m \u001b[38;5;167;01mValueError\u001b[39;00m(\u001b[38;5;124mf\u001b[39m\u001b[38;5;124m\"\u001b[39m\u001b[38;5;124mcannot insert \u001b[39m\u001b[38;5;132;01m{\u001b[39;00mcolumn\u001b[38;5;132;01m}\u001b[39;00m\u001b[38;5;124m, already exists\u001b[39m\u001b[38;5;124m\"\u001b[39m)\n\u001b[0;32m   4441\u001b[0m \u001b[38;5;28;01mif\u001b[39;00m \u001b[38;5;129;01mnot\u001b[39;00m \u001b[38;5;28misinstance\u001b[39m(loc, \u001b[38;5;28mint\u001b[39m):\n\u001b[0;32m   4442\u001b[0m     \u001b[38;5;28;01mraise\u001b[39;00m \u001b[38;5;167;01mTypeError\u001b[39;00m(\u001b[38;5;124m\"\u001b[39m\u001b[38;5;124mloc must be int\u001b[39m\u001b[38;5;124m\"\u001b[39m)\n",
      "\u001b[1;31mValueError\u001b[0m: cannot insert date, already exists"
     ]
    }
   ],
   "source": [
    "#\n",
    "data_all.insert(0, 'date','')\n",
    "data_all['date'] = pd.to_datetime(data_all[['year', 'month', 'day', 'hour']])\n",
    "data_all = data_all.drop(['year', 'month', 'day', 'hour'], axis=1)\n",
    "data_all.info(memory_usage=\"deep\")"
   ]
  },
  {
   "cell_type": "markdown",
   "id": "0f6d34bb",
   "metadata": {},
   "source": [
    "### Significato delle feature\n",
    "\n",
    "Si riporta la descrizione delle feature dal dataset originale: \n",
    "https://archive.ics.uci.edu/dataset/501/beijing+multi+site+air+quality+data\n",
    "\n",
    "`PM2.5`: concentrazione di PM2.5 in ${\\mu g}/{m^3}$\n",
    "\n",
    "`PM10`: concentrazione di PM10 in ${\\mu g}/{m^3}$\n",
    "\n",
    "`SO2`: concentrazione di SO2 in ${\\mu g}/{m^3}$\n",
    "\n",
    "`NO2`: concentrazione di NO2 in ${\\mu g}/{m^3}$\n",
    "\n",
    "`CO`: concentrazione di CO in ${\\mu g}/{m^3}$\n",
    "\n",
    "`O3`: concentrazione di O3 in ${\\mu g}/{m^3}$\n",
    "\n",
    "`TEMP`: temperatura in gradi Celsius `°C`\n",
    "\n",
    "`PRES`: pressione in `hPa`\n",
    "\n",
    "`DEWP`: temperatura del punto di rugiata in gradi Celsius `°C`\n",
    "\n",
    "`RAIN`: precipitazioni in `mm`\n",
    "\n",
    "`wd`: direzione del vento\n",
    "\n",
    "`WSPM`: velocità del vento in `m/s`\n",
    "\n",
    "`station`: nome della località dove sono stati rilevati i dati"
   ]
  },
  {
   "cell_type": "markdown",
   "id": "4d84542c",
   "metadata": {},
   "source": [
    "### Esplorazione singole feature\n",
    "\n",
    "E' possibile visualizzare media, deviazione standard e la distribuzione in termini di massimi, minimi e percentili per le colonne con valori numerici utilizzando il metodo `describe()`."
   ]
  },
  {
   "cell_type": "code",
   "execution_count": 17,
   "id": "58315bfe",
   "metadata": {},
   "outputs": [
    {
     "data": {
      "text/html": [
       "<div>\n",
       "<style scoped>\n",
       "    .dataframe tbody tr th:only-of-type {\n",
       "        vertical-align: middle;\n",
       "    }\n",
       "\n",
       "    .dataframe tbody tr th {\n",
       "        vertical-align: top;\n",
       "    }\n",
       "\n",
       "    .dataframe thead th {\n",
       "        text-align: right;\n",
       "    }\n",
       "</style>\n",
       "<table border=\"1\" class=\"dataframe\">\n",
       "  <thead>\n",
       "    <tr style=\"text-align: right;\">\n",
       "      <th></th>\n",
       "      <th>PM2.5</th>\n",
       "      <th>PM10</th>\n",
       "      <th>SO2</th>\n",
       "      <th>NO2</th>\n",
       "      <th>CO</th>\n",
       "      <th>O3</th>\n",
       "      <th>TEMP</th>\n",
       "      <th>PRES</th>\n",
       "      <th>DEWP</th>\n",
       "      <th>RAIN</th>\n",
       "      <th>WSPM</th>\n",
       "    </tr>\n",
       "  </thead>\n",
       "  <tbody>\n",
       "    <tr>\n",
       "      <th>count</th>\n",
       "      <td>412029.000000</td>\n",
       "      <td>414319.000000</td>\n",
       "      <td>411747.000000</td>\n",
       "      <td>408652.000000</td>\n",
       "      <td>400067.000000</td>\n",
       "      <td>407491.000000</td>\n",
       "      <td>420370.000000</td>\n",
       "      <td>420375.000000</td>\n",
       "      <td>420365.000000</td>\n",
       "      <td>420378.000000</td>\n",
       "      <td>420450.000000</td>\n",
       "    </tr>\n",
       "    <tr>\n",
       "      <th>mean</th>\n",
       "      <td>79.793428</td>\n",
       "      <td>104.602618</td>\n",
       "      <td>15.830835</td>\n",
       "      <td>50.638586</td>\n",
       "      <td>1230.766454</td>\n",
       "      <td>57.372271</td>\n",
       "      <td>13.538976</td>\n",
       "      <td>1010.746982</td>\n",
       "      <td>2.490822</td>\n",
       "      <td>0.064476</td>\n",
       "      <td>1.729711</td>\n",
       "    </tr>\n",
       "    <tr>\n",
       "      <th>std</th>\n",
       "      <td>80.822391</td>\n",
       "      <td>91.772426</td>\n",
       "      <td>21.650603</td>\n",
       "      <td>35.127912</td>\n",
       "      <td>1160.182716</td>\n",
       "      <td>56.661607</td>\n",
       "      <td>11.436139</td>\n",
       "      <td>10.474055</td>\n",
       "      <td>13.793847</td>\n",
       "      <td>0.821004</td>\n",
       "      <td>1.246386</td>\n",
       "    </tr>\n",
       "    <tr>\n",
       "      <th>min</th>\n",
       "      <td>2.000000</td>\n",
       "      <td>2.000000</td>\n",
       "      <td>0.285600</td>\n",
       "      <td>1.026500</td>\n",
       "      <td>100.000000</td>\n",
       "      <td>0.214200</td>\n",
       "      <td>-19.900000</td>\n",
       "      <td>982.400000</td>\n",
       "      <td>-43.400000</td>\n",
       "      <td>0.000000</td>\n",
       "      <td>0.000000</td>\n",
       "    </tr>\n",
       "    <tr>\n",
       "      <th>25%</th>\n",
       "      <td>20.000000</td>\n",
       "      <td>36.000000</td>\n",
       "      <td>3.000000</td>\n",
       "      <td>23.000000</td>\n",
       "      <td>500.000000</td>\n",
       "      <td>11.000000</td>\n",
       "      <td>3.100000</td>\n",
       "      <td>1002.300000</td>\n",
       "      <td>-8.900000</td>\n",
       "      <td>0.000000</td>\n",
       "      <td>0.900000</td>\n",
       "    </tr>\n",
       "    <tr>\n",
       "      <th>50%</th>\n",
       "      <td>55.000000</td>\n",
       "      <td>82.000000</td>\n",
       "      <td>7.000000</td>\n",
       "      <td>43.000000</td>\n",
       "      <td>900.000000</td>\n",
       "      <td>45.000000</td>\n",
       "      <td>14.500000</td>\n",
       "      <td>1010.400000</td>\n",
       "      <td>3.100000</td>\n",
       "      <td>0.000000</td>\n",
       "      <td>1.400000</td>\n",
       "    </tr>\n",
       "    <tr>\n",
       "      <th>75%</th>\n",
       "      <td>111.000000</td>\n",
       "      <td>145.000000</td>\n",
       "      <td>20.000000</td>\n",
       "      <td>71.000000</td>\n",
       "      <td>1500.000000</td>\n",
       "      <td>82.000000</td>\n",
       "      <td>23.300000</td>\n",
       "      <td>1019.000000</td>\n",
       "      <td>15.100000</td>\n",
       "      <td>0.000000</td>\n",
       "      <td>2.200000</td>\n",
       "    </tr>\n",
       "    <tr>\n",
       "      <th>max</th>\n",
       "      <td>999.000000</td>\n",
       "      <td>999.000000</td>\n",
       "      <td>500.000000</td>\n",
       "      <td>290.000000</td>\n",
       "      <td>10000.000000</td>\n",
       "      <td>1071.000000</td>\n",
       "      <td>41.600000</td>\n",
       "      <td>1042.800000</td>\n",
       "      <td>29.100000</td>\n",
       "      <td>72.500000</td>\n",
       "      <td>13.200000</td>\n",
       "    </tr>\n",
       "  </tbody>\n",
       "</table>\n",
       "</div>"
      ],
      "text/plain": [
       "               PM2.5           PM10            SO2            NO2  \\\n",
       "count  412029.000000  414319.000000  411747.000000  408652.000000   \n",
       "mean       79.793428     104.602618      15.830835      50.638586   \n",
       "std        80.822391      91.772426      21.650603      35.127912   \n",
       "min         2.000000       2.000000       0.285600       1.026500   \n",
       "25%        20.000000      36.000000       3.000000      23.000000   \n",
       "50%        55.000000      82.000000       7.000000      43.000000   \n",
       "75%       111.000000     145.000000      20.000000      71.000000   \n",
       "max       999.000000     999.000000     500.000000     290.000000   \n",
       "\n",
       "                  CO             O3           TEMP           PRES  \\\n",
       "count  400067.000000  407491.000000  420370.000000  420375.000000   \n",
       "mean     1230.766454      57.372271      13.538976    1010.746982   \n",
       "std      1160.182716      56.661607      11.436139      10.474055   \n",
       "min       100.000000       0.214200     -19.900000     982.400000   \n",
       "25%       500.000000      11.000000       3.100000    1002.300000   \n",
       "50%       900.000000      45.000000      14.500000    1010.400000   \n",
       "75%      1500.000000      82.000000      23.300000    1019.000000   \n",
       "max     10000.000000    1071.000000      41.600000    1042.800000   \n",
       "\n",
       "                DEWP           RAIN           WSPM  \n",
       "count  420365.000000  420378.000000  420450.000000  \n",
       "mean        2.490822       0.064476       1.729711  \n",
       "std        13.793847       0.821004       1.246386  \n",
       "min       -43.400000       0.000000       0.000000  \n",
       "25%        -8.900000       0.000000       0.900000  \n",
       "50%         3.100000       0.000000       1.400000  \n",
       "75%        15.100000       0.000000       2.200000  \n",
       "max        29.100000      72.500000      13.200000  "
      ]
     },
     "execution_count": 17,
     "metadata": {},
     "output_type": "execute_result"
    }
   ],
   "source": [
    "data_all.describe()"
   ]
  },
  {
   "cell_type": "markdown",
   "id": "03cb2cac",
   "metadata": {},
   "source": [
    "Con i metodi `isnull().sum(0)` si contano quanti valori mancano nel dataset, contando per righe.\n",
    "\n",
    "Tale risultato viene poi ordinato in senso crescente per visualizzare quali features hanno più dati mancanti."
   ]
  },
  {
   "cell_type": "code",
   "execution_count": 28,
   "id": "1161bb84",
   "metadata": {},
   "outputs": [
    {
     "data": {
      "text/plain": [
       "CO         20701\n",
       "O3         13277\n",
       "NO2        12116\n",
       "SO2         9021\n",
       "PM2.5       8739\n",
       "PM10        6449\n",
       "wd          1822\n",
       "DEWP         403\n",
       "TEMP         398\n",
       "PRES         393\n",
       "RAIN         390\n",
       "WSPM         318\n",
       "date           0\n",
       "station        0\n",
       "dtype: int64"
      ]
     },
     "execution_count": 28,
     "metadata": {},
     "output_type": "execute_result"
    }
   ],
   "source": [
    "data_all.isnull().sum(0).sort_values(ascending=False)"
   ]
  },
  {
   "cell_type": "markdown",
   "id": "9758bbc3",
   "metadata": {},
   "source": [
    "Si osserva che le prime 6 features con più dati mancanti sono:\n",
    " - CO\n",
    " - O3\n",
    " - NO2\n",
    " - SO2\n",
    " - PM2.5\n",
    " - PM10\n",
    " \n",
    "Da notare che le PM2.5 e le PM10 sono comunemente note come \"polveri sottili\" e \"particolato\" rispettivamente e\n",
    "costituiscono i principali inquinanti nelle aree urbane."
   ]
  },
  {
   "cell_type": "code",
   "execution_count": null,
   "id": "061edcab",
   "metadata": {},
   "outputs": [],
   "source": []
  }
 ],
 "metadata": {
  "kernelspec": {
   "display_name": "Python 3 (ipykernel)",
   "language": "python",
   "name": "python3"
  },
  "language_info": {
   "codemirror_mode": {
    "name": "ipython",
    "version": 3
   },
   "file_extension": ".py",
   "mimetype": "text/x-python",
   "name": "python",
   "nbconvert_exporter": "python",
   "pygments_lexer": "ipython3",
   "version": "3.9.12"
  }
 },
 "nbformat": 4,
 "nbformat_minor": 5
}
