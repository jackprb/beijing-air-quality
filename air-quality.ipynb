{
 "cells": [
  {
   "cell_type": "markdown",
   "id": "bfd6c0c2",
   "metadata": {},
   "source": [
    "# Beijing Air Quality\n",
    "\n",
    "**Programmazione di Applicazioni Data Intensive**  \n",
    "Laurea in Ingegneria e Scienze Informatiche  \n",
    "DISI - Università di Bologna, Cesena\n",
    "\n",
    "Andrea Dotti `andrea.dotti4@studio.unibo.it`\n",
    "\n",
    "Giacomo Pierbattista `giacomo.pierbattista@studio.unibo.it`"
   ]
  },
  {
   "cell_type": "markdown",
   "id": "b3526e85",
   "metadata": {},
   "source": [
    "Citazioni\n",
    " - Beijing Multi-Site Air-Quality Data\n",
    " (https://archive.ics.uci.edu/dataset/501/beijing+multi+site+air+quality+data)"
   ]
  },
  {
   "cell_type": "markdown",
   "id": "b0c4b862",
   "metadata": {},
   "source": [
    "## Parte 1 - Descrizione del problema e analisi esplorativa\n",
    "\n",
    "Si deve realizzare un modello che, utilizzando i dati registrati da alcuni sensori posti in alcuni distretti di Pechino/Beijing, sia in grado di fare qualcosa di utile.\n",
    "\n",
    "Vengono importate le librerie necessarie per scaricare i file, organizzare le strutture dati e disegnare i grafici."
   ]
  },
  {
   "cell_type": "code",
   "execution_count": 37,
   "id": "1d8fd3d0",
   "metadata": {},
   "outputs": [],
   "source": [
    "%matplotlib inline\n",
    "import os.path\n",
    "import numpy as np\n",
    "import pandas as pd\n",
    "import matplotlib.pyplot as plt"
   ]
  }
 ],
 "metadata": {
  "kernelspec": {
   "display_name": "Python 3 (ipykernel)",
   "language": "python",
   "name": "python3"
  },
  "language_info": {
   "codemirror_mode": {
    "name": "ipython",
    "version": 3
   },
   "file_extension": ".py",
   "mimetype": "text/x-python",
   "name": "python",
   "nbconvert_exporter": "python",
   "pygments_lexer": "ipython3",
   "version": "3.9.12"
  }
 },
 "nbformat": 4,
 "nbformat_minor": 5
}
